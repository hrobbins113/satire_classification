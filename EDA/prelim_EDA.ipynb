{
 "cells": [
  {
   "cell_type": "code",
   "execution_count": 42,
   "metadata": {},
   "outputs": [],
   "source": [
    "import matplotlib.pyplot as plt\n",
    "import pandas as pd\n",
    "import seaborn as sns\n",
    "import numpy as np\n",
    "\n",
    "from nltk.sentiment.vader import SentimentIntensityAnalyzer\n",
    "from sklearn.feature_extraction.text import CountVectorizer, TfidfVectorizer\n",
    "from sklearn.naive_bayes import MultinomialNB\n",
    "from sklearn.linear_model import LogisticRegression\n",
    "from sklearn.ensemble import RandomForestClassifier\n",
    "from sklearn.metrics import recall_score, precision_score, roc_auc_score, accuracy_score, f1_score\n",
    "\n",
    "\n",
    "pd.set_option(\"display.max_colwidth\", -1)"
   ]
  },
  {
   "cell_type": "code",
   "execution_count": 43,
   "metadata": {},
   "outputs": [],
   "source": [
    "df = pd.read_csv('../data/satireornot.csv')"
   ]
  },
  {
   "cell_type": "code",
   "execution_count": 44,
   "metadata": {},
   "outputs": [
    {
     "data": {
      "text/plain": [
       "(37894, 2)"
      ]
     },
     "execution_count": 44,
     "metadata": {},
     "output_type": "execute_result"
    }
   ],
   "source": [
    "df.shape"
   ]
  },
  {
   "cell_type": "code",
   "execution_count": 45,
   "metadata": {},
   "outputs": [
    {
     "name": "stdout",
     "output_type": "stream",
     "text": [
      "<class 'pandas.core.frame.DataFrame'>\n",
      "RangeIndex: 37894 entries, 0 to 37893\n",
      "Data columns (total 2 columns):\n",
      "text     37894 non-null object\n",
      "label    37894 non-null int64\n",
      "dtypes: int64(1), object(1)\n",
      "memory usage: 592.2+ KB\n"
     ]
    }
   ],
   "source": [
    "df.info()"
   ]
  },
  {
   "cell_type": "code",
   "execution_count": 46,
   "metadata": {},
   "outputs": [
    {
     "data": {
      "text/plain": [
       "Index(['text', 'label'], dtype='object')"
      ]
     },
     "execution_count": 46,
     "metadata": {},
     "output_type": "execute_result"
    }
   ],
   "source": [
    "df.columns"
   ]
  },
  {
   "cell_type": "code",
   "execution_count": 47,
   "metadata": {},
   "outputs": [
    {
     "data": {
      "text/html": [
       "<div>\n",
       "<style scoped>\n",
       "    .dataframe tbody tr th:only-of-type {\n",
       "        vertical-align: middle;\n",
       "    }\n",
       "\n",
       "    .dataframe tbody tr th {\n",
       "        vertical-align: top;\n",
       "    }\n",
       "\n",
       "    .dataframe thead th {\n",
       "        text-align: right;\n",
       "    }\n",
       "</style>\n",
       "<table border=\"1\" class=\"dataframe\">\n",
       "  <thead>\n",
       "    <tr style=\"text-align: right;\">\n",
       "      <th></th>\n",
       "      <th>text</th>\n",
       "      <th>label</th>\n",
       "    </tr>\n",
       "  </thead>\n",
       "  <tbody>\n",
       "    <tr>\n",
       "      <th>0</th>\n",
       "      <td>Planned Parenthood Mounts Giant IUD Atop Headquarters To Harness Sperm-Killing Power Of Lightning</td>\n",
       "      <td>1</td>\n",
       "    </tr>\n",
       "  </tbody>\n",
       "</table>\n",
       "</div>"
      ],
      "text/plain": [
       "                                                                                                text  \\\n",
       "0  Planned Parenthood Mounts Giant IUD Atop Headquarters To Harness Sperm-Killing Power Of Lightning   \n",
       "\n",
       "   label  \n",
       "0  1      "
      ]
     },
     "execution_count": 47,
     "metadata": {},
     "output_type": "execute_result"
    }
   ],
   "source": [
    "df.head(1)"
   ]
  },
  {
   "cell_type": "code",
   "execution_count": 48,
   "metadata": {},
   "outputs": [],
   "source": [
    "df['text'] = df['text'].replace('http\\S+', '', regex=True).replace('www\\S+', '', regex=True).replace('\\n\\n\\S+', '', regex=True)"
   ]
  },
  {
   "cell_type": "code",
   "execution_count": 49,
   "metadata": {},
   "outputs": [
    {
     "data": {
      "text/plain": [
       "(37894, 2)"
      ]
     },
     "execution_count": 49,
     "metadata": {},
     "output_type": "execute_result"
    }
   ],
   "source": [
    "df.shape"
   ]
  },
  {
   "cell_type": "code",
   "execution_count": 50,
   "metadata": {},
   "outputs": [],
   "source": [
    "df[\"text_length\"]= df['text'].str.len()\n",
    "df['text_word_count'] = df['text'].map(lambda x: len(x.split()))\n"
   ]
  },
  {
   "cell_type": "code",
   "execution_count": 51,
   "metadata": {},
   "outputs": [
    {
     "data": {
      "text/html": [
       "<div>\n",
       "<style scoped>\n",
       "    .dataframe tbody tr th:only-of-type {\n",
       "        vertical-align: middle;\n",
       "    }\n",
       "\n",
       "    .dataframe tbody tr th {\n",
       "        vertical-align: top;\n",
       "    }\n",
       "\n",
       "    .dataframe thead th {\n",
       "        text-align: right;\n",
       "    }\n",
       "</style>\n",
       "<table border=\"1\" class=\"dataframe\">\n",
       "  <thead>\n",
       "    <tr style=\"text-align: right;\">\n",
       "      <th></th>\n",
       "      <th>text</th>\n",
       "      <th>label</th>\n",
       "      <th>text_length</th>\n",
       "      <th>text_word_count</th>\n",
       "    </tr>\n",
       "  </thead>\n",
       "  <tbody>\n",
       "    <tr>\n",
       "      <th>0</th>\n",
       "      <td>Planned Parenthood Mounts Giant IUD Atop Headquarters To Harness Sperm-Killing Power Of Lightning</td>\n",
       "      <td>1</td>\n",
       "      <td>97</td>\n",
       "      <td>13</td>\n",
       "    </tr>\n",
       "    <tr>\n",
       "      <th>1</th>\n",
       "      <td>Teachers React To Yet Another School Shooting</td>\n",
       "      <td>1</td>\n",
       "      <td>45</td>\n",
       "      <td>7</td>\n",
       "    </tr>\n",
       "    <tr>\n",
       "      <th>2</th>\n",
       "      <td>Children Of All Ages Delighted By Enslavement Of Topsy The Elephant</td>\n",
       "      <td>1</td>\n",
       "      <td>67</td>\n",
       "      <td>11</td>\n",
       "    </tr>\n",
       "    <tr>\n",
       "      <th>3</th>\n",
       "      <td>Texas Passes Mandatory 24-Hour Waiting Period Before Police Can Engage Active Shooters</td>\n",
       "      <td>1</td>\n",
       "      <td>86</td>\n",
       "      <td>12</td>\n",
       "    </tr>\n",
       "    <tr>\n",
       "      <th>4</th>\n",
       "      <td>School Practices Drill For When There’s Not An Active Shooter</td>\n",
       "      <td>1</td>\n",
       "      <td>61</td>\n",
       "      <td>10</td>\n",
       "    </tr>\n",
       "  </tbody>\n",
       "</table>\n",
       "</div>"
      ],
      "text/plain": [
       "                                                                                                text  \\\n",
       "0  Planned Parenthood Mounts Giant IUD Atop Headquarters To Harness Sperm-Killing Power Of Lightning   \n",
       "1  Teachers React To Yet Another School Shooting                                                       \n",
       "2  Children Of All Ages Delighted By Enslavement Of Topsy The Elephant                                 \n",
       "3  Texas Passes Mandatory 24-Hour Waiting Period Before Police Can Engage Active Shooters              \n",
       "4  School Practices Drill For When There’s Not An Active Shooter                                       \n",
       "\n",
       "   label  text_length  text_word_count  \n",
       "0  1      97           13               \n",
       "1  1      45           7                \n",
       "2  1      67           11               \n",
       "3  1      86           12               \n",
       "4  1      61           10               "
      ]
     },
     "execution_count": 51,
     "metadata": {},
     "output_type": "execute_result"
    }
   ],
   "source": [
    "df.head()"
   ]
  },
  {
   "cell_type": "code",
   "execution_count": 54,
   "metadata": {
    "scrolled": true
   },
   "outputs": [
    {
     "data": {
      "image/png": "[encoded data removed]",
      "text/plain": [
       "<Figure size 432x288 with 1 Axes>"
      ]
     },
     "metadata": {
      "needs_background": "light"
     },
     "output_type": "display_data"
    }
   ],
   "source": [
    "sns.distplot(df['text_length'], kde=False);"
   ]
  },
  {
   "cell_type": "code",
   "execution_count": 53,
   "metadata": {
    "scrolled": false
   },
   "outputs": [
    {
     "data": {
      "image/png": "[encoded data removed]",
      "text/plain": [
       "<Figure size 432x288 with 1 Axes>"
      ]
     },
     "metadata": {
      "needs_background": "light"
     },
     "output_type": "display_data"
    }
   ],
   "source": [
    "sns.distplot(df['text_word_count'], kde=False);"
   ]
  },
  {
   "cell_type": "code",
   "execution_count": 55,
   "metadata": {},
   "outputs": [],
   "source": [
    "df = df[df['text_word_count'] > 3]\n",
    "#omitted because observations this short were not headlines, just commentary"
   ]
  },
  {
   "cell_type": "code",
   "execution_count": 56,
   "metadata": {
    "scrolled": true
   },
   "outputs": [
    {
     "data": {
      "text/plain": [
       "Index(['text', 'label', 'text_length', 'text_word_count'], dtype='object')"
      ]
     },
     "execution_count": 56,
     "metadata": {},
     "output_type": "execute_result"
    }
   ],
   "source": [
    "df.columns"
   ]
  },
  {
   "cell_type": "markdown",
   "metadata": {},
   "source": [
    "#### Sentiment for text"
   ]
  },
  {
   "cell_type": "code",
   "execution_count": 57,
   "metadata": {},
   "outputs": [
    {
     "data": {
      "text/plain": [
       "{'neg': 0.27, 'neu': 0.73, 'pos': 0.0, 'compound': -0.5719}"
      ]
     },
     "execution_count": 57,
     "metadata": {},
     "output_type": "execute_result"
    }
   ],
   "source": [
    "corpus = list(df['text'])\n",
    "\n",
    "#instantiate SIA\n",
    "sia = SentimentIntensityAnalyzer()\n",
    "\n",
    "#Get polarity scores for the first tweet\n",
    "sia.polarity_scores(str(corpus[10]))"
   ]
  },
  {
   "cell_type": "code",
   "execution_count": 58,
   "metadata": {
    "scrolled": true
   },
   "outputs": [
    {
     "data": {
      "text/plain": [
       "37539"
      ]
     },
     "execution_count": 58,
     "metadata": {},
     "output_type": "execute_result"
    }
   ],
   "source": [
    "len(corpus)"
   ]
  },
  {
   "cell_type": "code",
   "execution_count": 59,
   "metadata": {},
   "outputs": [
    {
     "data": {
      "text/html": [
       "<div>\n",
       "<style scoped>\n",
       "    .dataframe tbody tr th:only-of-type {\n",
       "        vertical-align: middle;\n",
       "    }\n",
       "\n",
       "    .dataframe tbody tr th {\n",
       "        vertical-align: top;\n",
       "    }\n",
       "\n",
       "    .dataframe thead th {\n",
       "        text-align: right;\n",
       "    }\n",
       "</style>\n",
       "<table border=\"1\" class=\"dataframe\">\n",
       "  <thead>\n",
       "    <tr style=\"text-align: right;\">\n",
       "      <th></th>\n",
       "      <th>text</th>\n",
       "      <th>label</th>\n",
       "      <th>text_length</th>\n",
       "      <th>text_word_count</th>\n",
       "    </tr>\n",
       "  </thead>\n",
       "  <tbody>\n",
       "    <tr>\n",
       "      <th>0</th>\n",
       "      <td>Planned Parenthood Mounts Giant IUD Atop Headquarters To Harness Sperm-Killing Power Of Lightning</td>\n",
       "      <td>1</td>\n",
       "      <td>97</td>\n",
       "      <td>13</td>\n",
       "    </tr>\n",
       "    <tr>\n",
       "      <th>1</th>\n",
       "      <td>Teachers React To Yet Another School Shooting</td>\n",
       "      <td>1</td>\n",
       "      <td>45</td>\n",
       "      <td>7</td>\n",
       "    </tr>\n",
       "  </tbody>\n",
       "</table>\n",
       "</div>"
      ],
      "text/plain": [
       "                                                                                                text  \\\n",
       "0  Planned Parenthood Mounts Giant IUD Atop Headquarters To Harness Sperm-Killing Power Of Lightning   \n",
       "1  Teachers React To Yet Another School Shooting                                                       \n",
       "\n",
       "   label  text_length  text_word_count  \n",
       "0  1      97           13               \n",
       "1  1      45           7                "
      ]
     },
     "execution_count": 59,
     "metadata": {},
     "output_type": "execute_result"
    }
   ],
   "source": [
    "df.head(2)"
   ]
  },
  {
   "cell_type": "code",
   "execution_count": 60,
   "metadata": {
    "scrolled": true
   },
   "outputs": [
    {
     "data": {
      "text/html": [
       "<div>\n",
       "<style scoped>\n",
       "    .dataframe tbody tr th:only-of-type {\n",
       "        vertical-align: middle;\n",
       "    }\n",
       "\n",
       "    .dataframe tbody tr th {\n",
       "        vertical-align: top;\n",
       "    }\n",
       "\n",
       "    .dataframe thead th {\n",
       "        text-align: right;\n",
       "    }\n",
       "</style>\n",
       "<table border=\"1\" class=\"dataframe\">\n",
       "  <thead>\n",
       "    <tr style=\"text-align: right;\">\n",
       "      <th></th>\n",
       "      <th>compound</th>\n",
       "      <th>neg</th>\n",
       "      <th>neu</th>\n",
       "      <th>pos</th>\n",
       "      <th>text</th>\n",
       "    </tr>\n",
       "  </thead>\n",
       "  <tbody>\n",
       "    <tr>\n",
       "      <th>0</th>\n",
       "      <td>0.0000</td>\n",
       "      <td>0.000</td>\n",
       "      <td>1.000</td>\n",
       "      <td>0.000</td>\n",
       "      <td>Planned Parenthood Mounts Giant IUD Atop Headquarters To Harness Sperm-Killing Power Of Lightning</td>\n",
       "    </tr>\n",
       "    <tr>\n",
       "      <th>1</th>\n",
       "      <td>0.0000</td>\n",
       "      <td>0.000</td>\n",
       "      <td>1.000</td>\n",
       "      <td>0.000</td>\n",
       "      <td>Teachers React To Yet Another School Shooting</td>\n",
       "    </tr>\n",
       "    <tr>\n",
       "      <th>2</th>\n",
       "      <td>0.5106</td>\n",
       "      <td>0.000</td>\n",
       "      <td>0.752</td>\n",
       "      <td>0.248</td>\n",
       "      <td>Children Of All Ages Delighted By Enslavement Of Topsy The Elephant</td>\n",
       "    </tr>\n",
       "    <tr>\n",
       "      <th>3</th>\n",
       "      <td>0.6597</td>\n",
       "      <td>0.000</td>\n",
       "      <td>0.584</td>\n",
       "      <td>0.416</td>\n",
       "      <td>Texas Passes Mandatory 24-Hour Waiting Period Before Police Can Engage Active Shooters</td>\n",
       "    </tr>\n",
       "    <tr>\n",
       "      <th>4</th>\n",
       "      <td>-0.3089</td>\n",
       "      <td>0.201</td>\n",
       "      <td>0.799</td>\n",
       "      <td>0.000</td>\n",
       "      <td>School Practices Drill For When There’s Not An Active Shooter</td>\n",
       "    </tr>\n",
       "  </tbody>\n",
       "</table>\n",
       "</div>"
      ],
      "text/plain": [
       "   compound    neg    neu    pos  \\\n",
       "0  0.0000    0.000  1.000  0.000   \n",
       "1  0.0000    0.000  1.000  0.000   \n",
       "2  0.5106    0.000  0.752  0.248   \n",
       "3  0.6597    0.000  0.584  0.416   \n",
       "4 -0.3089    0.201  0.799  0.000   \n",
       "\n",
       "                                                                                                text  \n",
       "0  Planned Parenthood Mounts Giant IUD Atop Headquarters To Harness Sperm-Killing Power Of Lightning  \n",
       "1  Teachers React To Yet Another School Shooting                                                      \n",
       "2  Children Of All Ages Delighted By Enslavement Of Topsy The Elephant                                \n",
       "3  Texas Passes Mandatory 24-Hour Waiting Period Before Police Can Engage Active Shooters             \n",
       "4  School Practices Drill For When There’s Not An Active Shooter                                      "
      ]
     },
     "execution_count": 60,
     "metadata": {},
     "output_type": "execute_result"
    }
   ],
   "source": [
    "#create dataframe that contains text and the polarity scores for each headline\n",
    "\n",
    "sentiment = []    \n",
    "\n",
    "for text in corpus:\n",
    "    scores = sia.polarity_scores(str(text))\n",
    "    scores['text'] = text\n",
    "    sentiment.append(scores)\n",
    "\n",
    "sentiment = pd.DataFrame(sentiment)\n",
    "sentiment.head()"
   ]
  },
  {
   "cell_type": "code",
   "execution_count": 61,
   "metadata": {},
   "outputs": [
    {
     "data": {
      "text/html": [
       "<div>\n",
       "<style scoped>\n",
       "    .dataframe tbody tr th:only-of-type {\n",
       "        vertical-align: middle;\n",
       "    }\n",
       "\n",
       "    .dataframe tbody tr th {\n",
       "        vertical-align: top;\n",
       "    }\n",
       "\n",
       "    .dataframe thead th {\n",
       "        text-align: right;\n",
       "    }\n",
       "</style>\n",
       "<table border=\"1\" class=\"dataframe\">\n",
       "  <thead>\n",
       "    <tr style=\"text-align: right;\">\n",
       "      <th></th>\n",
       "      <th>compound</th>\n",
       "      <th>neg</th>\n",
       "      <th>neu</th>\n",
       "      <th>pos</th>\n",
       "      <th>text</th>\n",
       "    </tr>\n",
       "  </thead>\n",
       "  <tbody>\n",
       "    <tr>\n",
       "      <th>2386</th>\n",
       "      <td>0.8346</td>\n",
       "      <td>0.0</td>\n",
       "      <td>0.184</td>\n",
       "      <td>0.816</td>\n",
       "      <td>Please share to save lives!!!!!</td>\n",
       "    </tr>\n",
       "    <tr>\n",
       "      <th>27524</th>\n",
       "      <td>0.8625</td>\n",
       "      <td>0.0</td>\n",
       "      <td>0.189</td>\n",
       "      <td>0.811</td>\n",
       "      <td>Deadly super rainbow!!!! LOL</td>\n",
       "    </tr>\n",
       "    <tr>\n",
       "      <th>34672</th>\n",
       "      <td>0.8271</td>\n",
       "      <td>0.0</td>\n",
       "      <td>0.206</td>\n",
       "      <td>0.794</td>\n",
       "      <td>Patriots Win Super Bowl</td>\n",
       "    </tr>\n",
       "    <tr>\n",
       "      <th>23963</th>\n",
       "      <td>0.9020</td>\n",
       "      <td>0.0</td>\n",
       "      <td>0.213</td>\n",
       "      <td>0.787</td>\n",
       "      <td>/r/NotTheOnion's Best of 2014 Award Winners!</td>\n",
       "    </tr>\n",
       "    <tr>\n",
       "      <th>34473</th>\n",
       "      <td>0.8957</td>\n",
       "      <td>0.0</td>\n",
       "      <td>0.217</td>\n",
       "      <td>0.783</td>\n",
       "      <td>NotTheOnion's Best of 2016 Award Winners</td>\n",
       "    </tr>\n",
       "  </tbody>\n",
       "</table>\n",
       "</div>"
      ],
      "text/plain": [
       "       compound  neg    neu    pos  \\\n",
       "2386   0.8346    0.0  0.184  0.816   \n",
       "27524  0.8625    0.0  0.189  0.811   \n",
       "34672  0.8271    0.0  0.206  0.794   \n",
       "23963  0.9020    0.0  0.213  0.787   \n",
       "34473  0.8957    0.0  0.217  0.783   \n",
       "\n",
       "                                               text  \n",
       "2386   Please share to save lives!!!!!               \n",
       "27524  Deadly super rainbow!!!! LOL                  \n",
       "34672  Patriots Win Super Bowl                       \n",
       "23963  /r/NotTheOnion's Best of 2014 Award Winners!  \n",
       "34473  NotTheOnion's Best of 2016 Award Winners      "
      ]
     },
     "execution_count": 61,
     "metadata": {},
     "output_type": "execute_result"
    }
   ],
   "source": [
    "sentiment.sort_values(by = 'pos', ascending = False).head()"
   ]
  },
  {
   "cell_type": "code",
   "execution_count": 62,
   "metadata": {
    "scrolled": false
   },
   "outputs": [
    {
     "data": {
      "text/html": [
       "<div>\n",
       "<style scoped>\n",
       "    .dataframe tbody tr th:only-of-type {\n",
       "        vertical-align: middle;\n",
       "    }\n",
       "\n",
       "    .dataframe tbody tr th {\n",
       "        vertical-align: top;\n",
       "    }\n",
       "\n",
       "    .dataframe thead th {\n",
       "        text-align: right;\n",
       "    }\n",
       "</style>\n",
       "<table border=\"1\" class=\"dataframe\">\n",
       "  <thead>\n",
       "    <tr style=\"text-align: right;\">\n",
       "      <th></th>\n",
       "      <th>compound</th>\n",
       "      <th>neg</th>\n",
       "      <th>neu</th>\n",
       "      <th>pos</th>\n",
       "      <th>text</th>\n",
       "    </tr>\n",
       "  </thead>\n",
       "  <tbody>\n",
       "    <tr>\n",
       "      <th>6303</th>\n",
       "      <td>-0.8591</td>\n",
       "      <td>0.895</td>\n",
       "      <td>0.105</td>\n",
       "      <td>0.0</td>\n",
       "      <td>Death Officially A Motherfucker</td>\n",
       "    </tr>\n",
       "    <tr>\n",
       "      <th>18943</th>\n",
       "      <td>-0.8807</td>\n",
       "      <td>0.836</td>\n",
       "      <td>0.164</td>\n",
       "      <td>0.0</td>\n",
       "      <td>Serial Killer Accidentally Kills Himself</td>\n",
       "    </tr>\n",
       "    <tr>\n",
       "      <th>26483</th>\n",
       "      <td>-0.9382</td>\n",
       "      <td>0.829</td>\n",
       "      <td>0.171</td>\n",
       "      <td>0.0</td>\n",
       "      <td>Florida police fatally shoot woman threatening suicide</td>\n",
       "    </tr>\n",
       "    <tr>\n",
       "      <th>27044</th>\n",
       "      <td>-0.9274</td>\n",
       "      <td>0.819</td>\n",
       "      <td>0.181</td>\n",
       "      <td>0.0</td>\n",
       "      <td>Suicide Bomb Instructor Accidentally Kills Iraqi Pupils</td>\n",
       "    </tr>\n",
       "    <tr>\n",
       "      <th>6951</th>\n",
       "      <td>-0.9201</td>\n",
       "      <td>0.814</td>\n",
       "      <td>0.186</td>\n",
       "      <td>0.0</td>\n",
       "      <td>Horrible Bitch Of An Ex-Girlfriend Missed Terribly</td>\n",
       "    </tr>\n",
       "  </tbody>\n",
       "</table>\n",
       "</div>"
      ],
      "text/plain": [
       "       compound    neg    neu  pos  \\\n",
       "6303  -0.8591    0.895  0.105  0.0   \n",
       "18943 -0.8807    0.836  0.164  0.0   \n",
       "26483 -0.9382    0.829  0.171  0.0   \n",
       "27044 -0.9274    0.819  0.181  0.0   \n",
       "6951  -0.9201    0.814  0.186  0.0   \n",
       "\n",
       "                                                          text  \n",
       "6303   Death Officially A Motherfucker                          \n",
       "18943  Serial Killer Accidentally Kills Himself                 \n",
       "26483  Florida police fatally shoot woman threatening suicide   \n",
       "27044  Suicide Bomb Instructor Accidentally Kills Iraqi Pupils  \n",
       "6951   Horrible Bitch Of An Ex-Girlfriend Missed Terribly       "
      ]
     },
     "execution_count": 62,
     "metadata": {},
     "output_type": "execute_result"
    }
   ],
   "source": [
    "sentiment.sort_values(by = 'neg', ascending = False).head()"
   ]
  },
  {
   "cell_type": "markdown",
   "metadata": {},
   "source": [
    "**Note to self**: consider adding custom stop words "
   ]
  },
  {
   "cell_type": "code",
   "execution_count": 63,
   "metadata": {},
   "outputs": [
    {
     "data": {
      "text/plain": [
       "(37539, 5)"
      ]
     },
     "execution_count": 63,
     "metadata": {},
     "output_type": "execute_result"
    }
   ],
   "source": [
    "sentiment.shape"
   ]
  },
  {
   "cell_type": "code",
   "execution_count": 64,
   "metadata": {},
   "outputs": [],
   "source": [
    "scores_df= sentiment[['compound', 'neg', 'neu', 'pos']]"
   ]
  },
  {
   "cell_type": "markdown",
   "metadata": {},
   "source": [
    "**Note to self:** do ttests on sentiment scores to see if difference in scores are signficantly different between classes"
   ]
  },
  {
   "cell_type": "code",
   "execution_count": 38,
   "metadata": {},
   "outputs": [],
   "source": [
    "#adding sentiment scores to original df"
   ]
  },
  {
   "cell_type": "code",
   "execution_count": 66,
   "metadata": {},
   "outputs": [],
   "source": [
    "df_combined = pd.concat([df, scores_df], axis = 1)"
   ]
  },
  {
   "cell_type": "code",
   "execution_count": 67,
   "metadata": {},
   "outputs": [
    {
     "data": {
      "text/html": [
       "<div>\n",
       "<style scoped>\n",
       "    .dataframe tbody tr th:only-of-type {\n",
       "        vertical-align: middle;\n",
       "    }\n",
       "\n",
       "    .dataframe tbody tr th {\n",
       "        vertical-align: top;\n",
       "    }\n",
       "\n",
       "    .dataframe thead th {\n",
       "        text-align: right;\n",
       "    }\n",
       "</style>\n",
       "<table border=\"1\" class=\"dataframe\">\n",
       "  <thead>\n",
       "    <tr style=\"text-align: right;\">\n",
       "      <th></th>\n",
       "      <th>text</th>\n",
       "      <th>label</th>\n",
       "      <th>text_length</th>\n",
       "      <th>text_word_count</th>\n",
       "      <th>compound</th>\n",
       "      <th>neg</th>\n",
       "      <th>neu</th>\n",
       "      <th>pos</th>\n",
       "    </tr>\n",
       "  </thead>\n",
       "  <tbody>\n",
       "    <tr>\n",
       "      <th>0</th>\n",
       "      <td>Planned Parenthood Mounts Giant IUD Atop Headquarters To Harness Sperm-Killing Power Of Lightning</td>\n",
       "      <td>1.0</td>\n",
       "      <td>97.0</td>\n",
       "      <td>13.0</td>\n",
       "      <td>0.0000</td>\n",
       "      <td>0.000</td>\n",
       "      <td>1.000</td>\n",
       "      <td>0.000</td>\n",
       "    </tr>\n",
       "    <tr>\n",
       "      <th>1</th>\n",
       "      <td>Teachers React To Yet Another School Shooting</td>\n",
       "      <td>1.0</td>\n",
       "      <td>45.0</td>\n",
       "      <td>7.0</td>\n",
       "      <td>0.0000</td>\n",
       "      <td>0.000</td>\n",
       "      <td>1.000</td>\n",
       "      <td>0.000</td>\n",
       "    </tr>\n",
       "    <tr>\n",
       "      <th>2</th>\n",
       "      <td>Children Of All Ages Delighted By Enslavement Of Topsy The Elephant</td>\n",
       "      <td>1.0</td>\n",
       "      <td>67.0</td>\n",
       "      <td>11.0</td>\n",
       "      <td>0.5106</td>\n",
       "      <td>0.000</td>\n",
       "      <td>0.752</td>\n",
       "      <td>0.248</td>\n",
       "    </tr>\n",
       "    <tr>\n",
       "      <th>3</th>\n",
       "      <td>Texas Passes Mandatory 24-Hour Waiting Period Before Police Can Engage Active Shooters</td>\n",
       "      <td>1.0</td>\n",
       "      <td>86.0</td>\n",
       "      <td>12.0</td>\n",
       "      <td>0.6597</td>\n",
       "      <td>0.000</td>\n",
       "      <td>0.584</td>\n",
       "      <td>0.416</td>\n",
       "    </tr>\n",
       "    <tr>\n",
       "      <th>4</th>\n",
       "      <td>School Practices Drill For When There’s Not An Active Shooter</td>\n",
       "      <td>1.0</td>\n",
       "      <td>61.0</td>\n",
       "      <td>10.0</td>\n",
       "      <td>-0.3089</td>\n",
       "      <td>0.201</td>\n",
       "      <td>0.799</td>\n",
       "      <td>0.000</td>\n",
       "    </tr>\n",
       "  </tbody>\n",
       "</table>\n",
       "</div>"
      ],
      "text/plain": [
       "                                                                                                text  \\\n",
       "0  Planned Parenthood Mounts Giant IUD Atop Headquarters To Harness Sperm-Killing Power Of Lightning   \n",
       "1  Teachers React To Yet Another School Shooting                                                       \n",
       "2  Children Of All Ages Delighted By Enslavement Of Topsy The Elephant                                 \n",
       "3  Texas Passes Mandatory 24-Hour Waiting Period Before Police Can Engage Active Shooters              \n",
       "4  School Practices Drill For When There’s Not An Active Shooter                                       \n",
       "\n",
       "   label  text_length  text_word_count  compound    neg    neu    pos  \n",
       "0  1.0    97.0         13.0             0.0000    0.000  1.000  0.000  \n",
       "1  1.0    45.0         7.0              0.0000    0.000  1.000  0.000  \n",
       "2  1.0    67.0         11.0             0.5106    0.000  0.752  0.248  \n",
       "3  1.0    86.0         12.0             0.6597    0.000  0.584  0.416  \n",
       "4  1.0    61.0         10.0            -0.3089    0.201  0.799  0.000  "
      ]
     },
     "execution_count": 67,
     "metadata": {},
     "output_type": "execute_result"
    }
   ],
   "source": [
    "df_combined.head()"
   ]
  },
  {
   "cell_type": "code",
   "execution_count": 68,
   "metadata": {
    "scrolled": true
   },
   "outputs": [
    {
     "data": {
      "text/html": [
       "<div>\n",
       "<style scoped>\n",
       "    .dataframe tbody tr th:only-of-type {\n",
       "        vertical-align: middle;\n",
       "    }\n",
       "\n",
       "    .dataframe tbody tr th {\n",
       "        vertical-align: top;\n",
       "    }\n",
       "\n",
       "    .dataframe thead th {\n",
       "        text-align: right;\n",
       "    }\n",
       "</style>\n",
       "<table border=\"1\" class=\"dataframe\">\n",
       "  <thead>\n",
       "    <tr style=\"text-align: right;\">\n",
       "      <th></th>\n",
       "      <th>pos</th>\n",
       "      <th>neg</th>\n",
       "      <th>neu</th>\n",
       "      <th>compound</th>\n",
       "    </tr>\n",
       "    <tr>\n",
       "      <th>label</th>\n",
       "      <th></th>\n",
       "      <th></th>\n",
       "      <th></th>\n",
       "      <th></th>\n",
       "    </tr>\n",
       "  </thead>\n",
       "  <tbody>\n",
       "    <tr>\n",
       "      <th>0.0</th>\n",
       "      <td>0.070082</td>\n",
       "      <td>0.137837</td>\n",
       "      <td>0.79208</td>\n",
       "      <td>-0.124882</td>\n",
       "    </tr>\n",
       "    <tr>\n",
       "      <th>1.0</th>\n",
       "      <td>0.089166</td>\n",
       "      <td>0.119066</td>\n",
       "      <td>0.79169</td>\n",
       "      <td>-0.057773</td>\n",
       "    </tr>\n",
       "  </tbody>\n",
       "</table>\n",
       "</div>"
      ],
      "text/plain": [
       "            pos       neg      neu  compound\n",
       "label                                       \n",
       "0.0    0.070082  0.137837  0.79208 -0.124882\n",
       "1.0    0.089166  0.119066  0.79169 -0.057773"
      ]
     },
     "execution_count": 68,
     "metadata": {},
     "output_type": "execute_result"
    }
   ],
   "source": [
    "df_combined.groupby('label').mean()[['pos', 'neg', 'neu', 'compound']]"
   ]
  },
  {
   "cell_type": "code",
   "execution_count": null,
   "metadata": {},
   "outputs": [],
   "source": [
    "# do T tests on sentiment scores between 0 and 1 class:"
   ]
  },
  {
   "cell_type": "code",
   "execution_count": 69,
   "metadata": {
    "scrolled": true
   },
   "outputs": [
    {
     "data": {
      "text/plain": [
       "<matplotlib.axes._subplots.AxesSubplot at 0x7f820bad5f28>"
      ]
     },
     "execution_count": 69,
     "metadata": {},
     "output_type": "execute_result"
    },
    {
     "data": {
      "image/png": "[encoded data removed]",
      "text/plain": [
       "<Figure size 432x288 with 1 Axes>"
      ]
     },
     "metadata": {
      "needs_background": "light"
     },
     "output_type": "display_data"
    }
   ],
   "source": [
    "df_combined.groupby('label').mean()[['pos', 'neg', 'neu', 'compound']].plot(kind='barh')"
   ]
  },
  {
   "cell_type": "code",
   "execution_count": 71,
   "metadata": {
    "scrolled": true
   },
   "outputs": [
    {
     "name": "stdout",
     "output_type": "stream",
     "text": [
      "<class 'pandas.core.frame.DataFrame'>\n",
      "Int64Index: 37893 entries, 0 to 37893\n",
      "Data columns (total 8 columns):\n",
      "text               37539 non-null object\n",
      "label              37539 non-null float64\n",
      "text_length        37539 non-null float64\n",
      "text_word_count    37539 non-null float64\n",
      "compound           37539 non-null float64\n",
      "neg                37539 non-null float64\n",
      "neu                37539 non-null float64\n",
      "pos                37539 non-null float64\n",
      "dtypes: float64(7), object(1)\n",
      "memory usage: 2.6+ MB\n"
     ]
    }
   ],
   "source": [
    "df_combined.info()"
   ]
  },
  {
   "cell_type": "code",
   "execution_count": 72,
   "metadata": {
    "scrolled": true
   },
   "outputs": [
    {
     "data": {
      "text/plain": [
       "text               354\n",
       "label              354\n",
       "text_length        354\n",
       "text_word_count    354\n",
       "compound           354\n",
       "neg                354\n",
       "neu                354\n",
       "pos                354\n",
       "dtype: int64"
      ]
     },
     "execution_count": 72,
     "metadata": {},
     "output_type": "execute_result"
    }
   ],
   "source": [
    "df_combined.isnull().sum()"
   ]
  },
  {
   "cell_type": "code",
   "execution_count": 73,
   "metadata": {},
   "outputs": [],
   "source": [
    "df_combined.dropna(inplace = True)\n",
    "#will lose 354/37539 = 0.009"
   ]
  },
  {
   "cell_type": "code",
   "execution_count": 74,
   "metadata": {},
   "outputs": [],
   "source": [
    "#Prelim text vectorizing"
   ]
  },
  {
   "cell_type": "code",
   "execution_count": 75,
   "metadata": {},
   "outputs": [],
   "source": [
    "cvec = CountVectorizer(stop_words = 'english', max_features = 3000, ngram_range = (1, 4))\n",
    "\n",
    "vectors = cvec.fit_transform(df_combined['text'])\n"
   ]
  },
  {
   "cell_type": "code",
   "execution_count": 76,
   "metadata": {},
   "outputs": [],
   "source": [
    "vector_df = pd.DataFrame(vectors.todense(), columns = cvec.get_feature_names())"
   ]
  },
  {
   "cell_type": "code",
   "execution_count": 77,
   "metadata": {},
   "outputs": [
    {
     "data": {
      "text/html": [
       "<div>\n",
       "<style scoped>\n",
       "    .dataframe tbody tr th:only-of-type {\n",
       "        vertical-align: middle;\n",
       "    }\n",
       "\n",
       "    .dataframe tbody tr th {\n",
       "        vertical-align: top;\n",
       "    }\n",
       "\n",
       "    .dataframe thead th {\n",
       "        text-align: right;\n",
       "    }\n",
       "</style>\n",
       "<table border=\"1\" class=\"dataframe\">\n",
       "  <thead>\n",
       "    <tr style=\"text-align: right;\">\n",
       "      <th></th>\n",
       "      <th>000</th>\n",
       "      <th>10</th>\n",
       "      <th>10 000</th>\n",
       "      <th>10 year</th>\n",
       "      <th>10 year old</th>\n",
       "      <th>10 years</th>\n",
       "      <th>100</th>\n",
       "      <th>11</th>\n",
       "      <th>11 year</th>\n",
       "      <th>11 year old</th>\n",
       "      <th>...</th>\n",
       "      <th>york times</th>\n",
       "      <th>young</th>\n",
       "      <th>youth</th>\n",
       "      <th>youtube</th>\n",
       "      <th>zealand</th>\n",
       "      <th>zimmerman</th>\n",
       "      <th>zombie</th>\n",
       "      <th>zone</th>\n",
       "      <th>zoo</th>\n",
       "      <th>zuckerberg</th>\n",
       "    </tr>\n",
       "  </thead>\n",
       "  <tbody>\n",
       "    <tr>\n",
       "      <th>0</th>\n",
       "      <td>0</td>\n",
       "      <td>0</td>\n",
       "      <td>0</td>\n",
       "      <td>0</td>\n",
       "      <td>0</td>\n",
       "      <td>0</td>\n",
       "      <td>0</td>\n",
       "      <td>0</td>\n",
       "      <td>0</td>\n",
       "      <td>0</td>\n",
       "      <td>...</td>\n",
       "      <td>0</td>\n",
       "      <td>0</td>\n",
       "      <td>0</td>\n",
       "      <td>0</td>\n",
       "      <td>0</td>\n",
       "      <td>0</td>\n",
       "      <td>0</td>\n",
       "      <td>0</td>\n",
       "      <td>0</td>\n",
       "      <td>0</td>\n",
       "    </tr>\n",
       "    <tr>\n",
       "      <th>1</th>\n",
       "      <td>0</td>\n",
       "      <td>0</td>\n",
       "      <td>0</td>\n",
       "      <td>0</td>\n",
       "      <td>0</td>\n",
       "      <td>0</td>\n",
       "      <td>0</td>\n",
       "      <td>0</td>\n",
       "      <td>0</td>\n",
       "      <td>0</td>\n",
       "      <td>...</td>\n",
       "      <td>0</td>\n",
       "      <td>0</td>\n",
       "      <td>0</td>\n",
       "      <td>0</td>\n",
       "      <td>0</td>\n",
       "      <td>0</td>\n",
       "      <td>0</td>\n",
       "      <td>0</td>\n",
       "      <td>0</td>\n",
       "      <td>0</td>\n",
       "    </tr>\n",
       "    <tr>\n",
       "      <th>2</th>\n",
       "      <td>0</td>\n",
       "      <td>0</td>\n",
       "      <td>0</td>\n",
       "      <td>0</td>\n",
       "      <td>0</td>\n",
       "      <td>0</td>\n",
       "      <td>0</td>\n",
       "      <td>0</td>\n",
       "      <td>0</td>\n",
       "      <td>0</td>\n",
       "      <td>...</td>\n",
       "      <td>0</td>\n",
       "      <td>0</td>\n",
       "      <td>0</td>\n",
       "      <td>0</td>\n",
       "      <td>0</td>\n",
       "      <td>0</td>\n",
       "      <td>0</td>\n",
       "      <td>0</td>\n",
       "      <td>0</td>\n",
       "      <td>0</td>\n",
       "    </tr>\n",
       "    <tr>\n",
       "      <th>3</th>\n",
       "      <td>0</td>\n",
       "      <td>0</td>\n",
       "      <td>0</td>\n",
       "      <td>0</td>\n",
       "      <td>0</td>\n",
       "      <td>0</td>\n",
       "      <td>0</td>\n",
       "      <td>0</td>\n",
       "      <td>0</td>\n",
       "      <td>0</td>\n",
       "      <td>...</td>\n",
       "      <td>0</td>\n",
       "      <td>0</td>\n",
       "      <td>0</td>\n",
       "      <td>0</td>\n",
       "      <td>0</td>\n",
       "      <td>0</td>\n",
       "      <td>0</td>\n",
       "      <td>0</td>\n",
       "      <td>0</td>\n",
       "      <td>0</td>\n",
       "    </tr>\n",
       "    <tr>\n",
       "      <th>4</th>\n",
       "      <td>0</td>\n",
       "      <td>0</td>\n",
       "      <td>0</td>\n",
       "      <td>0</td>\n",
       "      <td>0</td>\n",
       "      <td>0</td>\n",
       "      <td>0</td>\n",
       "      <td>0</td>\n",
       "      <td>0</td>\n",
       "      <td>0</td>\n",
       "      <td>...</td>\n",
       "      <td>0</td>\n",
       "      <td>0</td>\n",
       "      <td>0</td>\n",
       "      <td>0</td>\n",
       "      <td>0</td>\n",
       "      <td>0</td>\n",
       "      <td>0</td>\n",
       "      <td>0</td>\n",
       "      <td>0</td>\n",
       "      <td>0</td>\n",
       "    </tr>\n",
       "  </tbody>\n",
       "</table>\n",
       "<p>5 rows × 3000 columns</p>\n",
       "</div>"
      ],
      "text/plain": [
       "   000  10  10 000  10 year  10 year old  10 years  100  11  11 year  \\\n",
       "0  0    0   0       0        0            0         0    0   0         \n",
       "1  0    0   0       0        0            0         0    0   0         \n",
       "2  0    0   0       0        0            0         0    0   0         \n",
       "3  0    0   0       0        0            0         0    0   0         \n",
       "4  0    0   0       0        0            0         0    0   0         \n",
       "\n",
       "   11 year old  ...  york times  young  youth  youtube  zealand  zimmerman  \\\n",
       "0  0            ...  0           0      0      0        0        0           \n",
       "1  0            ...  0           0      0      0        0        0           \n",
       "2  0            ...  0           0      0      0        0        0           \n",
       "3  0            ...  0           0      0      0        0        0           \n",
       "4  0            ...  0           0      0      0        0        0           \n",
       "\n",
       "   zombie  zone  zoo  zuckerberg  \n",
       "0  0       0     0    0           \n",
       "1  0       0     0    0           \n",
       "2  0       0     0    0           \n",
       "3  0       0     0    0           \n",
       "4  0       0     0    0           \n",
       "\n",
       "[5 rows x 3000 columns]"
      ]
     },
     "execution_count": 77,
     "metadata": {},
     "output_type": "execute_result"
    }
   ],
   "source": [
    "vector_df.head()"
   ]
  },
  {
   "cell_type": "code",
   "execution_count": 80,
   "metadata": {
    "scrolled": true
   },
   "outputs": [
    {
     "data": {
      "text/plain": [
       "<matplotlib.axes._subplots.AxesSubplot at 0x7f820bf666a0>"
      ]
     },
     "execution_count": 80,
     "metadata": {},
     "output_type": "execute_result"
    },
    {
     "data": {
      "image/png": "[encoded data removed]",
      "text/plain": [
       "<Figure size 432x288 with 1 Axes>"
      ]
     },
     "metadata": {
      "needs_background": "light"
     },
     "output_type": "display_data"
    }
   ],
   "source": [
    "vector_df.sum().sort_values(ascending=False).head(10).plot(kind = 'barh')"
   ]
  },
  {
   "cell_type": "code",
   "execution_count": 96,
   "metadata": {},
   "outputs": [],
   "source": [
    "df_combined.to_csv('satirevsreal.csv', index = False)"
   ]
  },
  {
   "cell_type": "code",
   "execution_count": null,
   "metadata": {},
   "outputs": [],
   "source": []
  },
  {
   "cell_type": "code",
   "execution_count": null,
   "metadata": {},
   "outputs": [],
   "source": []
  }
 ],
 "metadata": {
  "kernelspec": {
   "display_name": "Python 3",
   "language": "python",
   "name": "python3"
  },
  "language_info": {
   "codemirror_mode": {
    "name": "ipython",
    "version": 3
   },
   "file_extension": ".py",
   "mimetype": "text/x-python",
   "name": "python",
   "nbconvert_exporter": "python",
   "pygments_lexer": "ipython3",
   "version": "3.6.8"
  }
 },
 "nbformat": 4,
 "nbformat_minor": 2
}
