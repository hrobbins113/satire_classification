{
 "cells": [
  {
   "cell_type": "code",
   "execution_count": 1,
   "metadata": {},
   "outputs": [],
   "source": [
    "import time\n",
    "import requests\n",
    "import pandas as pd\n",
    "import datetime as dt"
   ]
  },
  {
   "cell_type": "code",
   "execution_count": 2,
   "metadata": {},
   "outputs": [],
   "source": [
    "def query_pushshift(subreddit, kind = 'submission', day_window = 30, n = 300):\n",
    "    SUBFIELDS = ['title', 'selftext', 'subreddit', 'created_utc', 'author', 'num_comments', 'score']\n",
    "    \n",
    "    #establish base url and stem\n",
    "    \n",
    "    BASE_URL = f\"https://api.pushshift.io/reddit/search/{kind}\"\n",
    "    stem = f\"{BASE_URL}?subreddit={subreddit}&size=500\"\n",
    "    \n",
    "    #instantiate empty list\n",
    "    posts = []\n",
    "    \n",
    "    #implement for loop with time.sleep(2)\n",
    "    \n",
    "    for i in range(1, n + 1):\n",
    "        URL = \"{}&after={}d\".format(stem, day_window * i)\n",
    "        print(\"Querying from: \" + URL)\n",
    "        response = requests.get(URL)\n",
    "        assert response.status_code == 200\n",
    "        mine = response.json()['data']\n",
    "        df = pd.DataFrame.from_dict(mine)\n",
    "        posts.append(df)\n",
    "        time.sleep(1)\n",
    "        \n",
    "    full = pd.concat(posts, sort = False)\n",
    "    \n",
    "    if kind == 'submission':\n",
    "        \n",
    "        #select desired columns\n",
    "        \n",
    "        full = full[SUBFIELDS]\n",
    "        \n",
    "        #drop duplicated\n",
    "        \n",
    "        full.drop_duplicates(inplace = True)\n",
    "        \n",
    "#         full = full.loc[full['is_self'] == True]\n",
    "    \n",
    "    #create timestamp column\n",
    "    \n",
    "    full['timestamp'] = full['created_utc'].map(dt.date.fromtimestamp)\n",
    "    \n",
    "    print('Query Complete!')\n",
    "    \n",
    "    return full\n",
    "        "
   ]
  },
  {
   "cell_type": "code",
   "execution_count": 3,
   "metadata": {},
   "outputs": [],
   "source": [
    "results = query_pushshift('TheOnion')"
   ]
  },
  {
   "cell_type": "code",
   "execution_count": 5,
   "metadata": {},
   "outputs": [],
   "source": [
    "results.shape"
   ]
  },
  {
   "cell_type": "code",
   "execution_count": 8,
   "metadata": {},
   "outputs": [],
   "source": [
    "results.to_csv('theonion.csv', index = False)"
   ]
  },
  {
   "cell_type": "code",
   "execution_count": null,
   "metadata": {},
   "outputs": [],
   "source": []
  }
 ],
 "metadata": {
  "kernelspec": {
   "display_name": "Python 3",
   "language": "python",
   "name": "python3"
  },
  "language_info": {
   "codemirror_mode": {
    "name": "ipython",
    "version": 3
   },
   "file_extension": ".py",
   "mimetype": "text/x-python",
   "name": "python",
   "nbconvert_exporter": "python",
   "pygments_lexer": "ipython3",
   "version": "3.6.8"
  }
 },
 "nbformat": 4,
 "nbformat_minor": 2
}
